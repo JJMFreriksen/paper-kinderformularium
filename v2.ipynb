{
 "cells": [
  {
   "cell_type": "markdown",
   "id": "c5fbe273",
   "metadata": {},
   "source": [
    "!pip install textract"
   ]
  },
  {
   "cell_type": "code",
   "execution_count": 1,
   "id": "f41bd517",
   "metadata": {},
   "outputs": [],
   "source": [
    "import docx\n",
    "from string import punctuation\n",
    "import re\n",
    "import csv  "
   ]
  },
  {
   "cell_type": "code",
   "execution_count": 2,
   "id": "707174f2",
   "metadata": {},
   "outputs": [],
   "source": [
    "from Bio import Entrez\n",
    "email='simgeekiz48@gmail.com'\n",
    "from Bio.Entrez import efetch, read"
   ]
  },
  {
   "cell_type": "code",
   "execution_count": 3,
   "id": "b45ee6bd",
   "metadata": {},
   "outputs": [],
   "source": [
    "rba_path = 'data/ferrofumaraat.docx'"
   ]
  },
  {
   "cell_type": "code",
   "execution_count": 4,
   "id": "7a40eb2e",
   "metadata": {},
   "outputs": [],
   "source": [
    "csv_path = rba_path.replace('.docx', '.csv')\n"
   ]
  },
  {
   "cell_type": "code",
   "execution_count": 5,
   "id": "9ae19a40",
   "metadata": {},
   "outputs": [],
   "source": [
    "def search(query):\n",
    "    Entrez.email = email\n",
    "    handle = Entrez.esearch(db='pubmed', \n",
    "                            sort='relevance', \n",
    "                            retmax='20',\n",
    "                            retmode='xml', \n",
    "                            term=query)\n",
    "    results = Entrez.read(handle)\n",
    "    return results\n",
    "\n",
    "def fetch_details(id_list):\n",
    "    ids = ','.join(id_list)\n",
    "    Entrez.email = email\n",
    "    handle = Entrez.efetch(db='pubmed',\n",
    "                           retmode='xml',\n",
    "                           id=ids)\n",
    "    results = Entrez.read(handle)\n",
    "    return results\n"
   ]
  },
  {
   "cell_type": "code",
   "execution_count": 6,
   "id": "09e190b7",
   "metadata": {},
   "outputs": [],
   "source": [
    "from docx import Document\n",
    "doc = Document(rba_path)"
   ]
  },
  {
   "cell_type": "code",
   "execution_count": 7,
   "id": "ab51381c",
   "metadata": {},
   "outputs": [],
   "source": [
    "table = doc.tables[1]\n",
    "\n",
    "# Data will be a list of rows represented as dictionaries\n",
    "# containing each row's data.\n",
    "data = []\n",
    "for i, row in enumerate(table.rows):\n",
    "    text = (cell.text for cell in row.cells)\n",
    "\n",
    "    # Establish the mapping based on the first row\n",
    "    # headers; these will become the keys of our dictionary\n",
    "    if i == 0:\n",
    "        keys = tuple(text)\n",
    "        continue\n",
    "\n",
    "    # Construct a dictionary for this row, mapping\n",
    "    # keys to values for this row\n",
    "    row_data = dict(zip(keys, text))\n",
    "    data.append(row_data)"
   ]
  },
  {
   "cell_type": "code",
   "execution_count": 8,
   "id": "08c55c69",
   "metadata": {},
   "outputs": [],
   "source": [
    "table_headers = ['bron', 'bewijs', 'effect', 'opmerkingen', 'source', 'evidence', 'effect', 'remarks']\n",
    "\n",
    "referenceList = []\n",
    "ref_count = 0\n",
    "for table in doc.tables:\n",
    "#     for row in table.rows:\n",
    "    for i, row in enumerate(table.rows):\n",
    "#         text = (cell.text for cell in row.cells)\n",
    "#         if i == 0:\n",
    "#             keys = tuple(text)\n",
    "#             continue\n",
    "        for cell in row.cells:\n",
    "            for paragraph in cell.paragraphs:\n",
    "                bold_text = ''\n",
    "                for run in paragraph.runs:\n",
    "                    if (run.bold and run.text.lower().strip().startswith('ref')):\n",
    "                        ref_count += 1\n",
    "                    elif i == 0 and run.bold and run.text.lower().strip() in table_headers:\n",
    "                        continue\n",
    "                    elif (run.bold):\n",
    "                        if (run.text.strip() in paragraph.text.strip()):\n",
    "                            bold_text += run.text.strip() + ' '\n",
    "#                     print(bold_text)\n",
    "                if bold_text.strip() != ''  and re.search(r'^[0-9].[0-9]', bold_text) is None: \n",
    "                    referenceList.append(paragraph.text.strip().replace('\\xa0',' '))"
   ]
  },
  {
   "cell_type": "code",
   "execution_count": 9,
   "id": "2d53ac6e",
   "metadata": {},
   "outputs": [],
   "source": [
    "header = ['record_id', 'title', 'abstract', 'doi', 'final_included']\n",
    "with open(csv_path, 'w', newline='') as csvfile:\n",
    "    cw = csv.writer(csvfile, delimiter=',') #quotechar='|', quoting=csv.QUOTE_MINIMAL\n",
    "    cw.writerow(header)"
   ]
  },
  {
   "cell_type": "code",
   "execution_count": 10,
   "id": "5edbd3b5",
   "metadata": {},
   "outputs": [
    {
     "name": "stdout",
     "output_type": "stream",
     "text": [
      "The reference could not be found automaticaly, please add it to the list manually\n",
      "Rationale of iron dosage and formulations in under three children.\n",
      "The reference could not be found automaticaly, please add it to the list manually\n",
      "Guidelines for the use of iron supplements to prevent and treat iron deficiency anemia.\n",
      "The reference could not be found automaticaly, please add it to the list manually\n",
      "Iron deficiency in infancy and childhood.\n",
      "The reference could not be found automaticaly, please add it to the list manually\n",
      "Low dose 'Sprinkles'- an innovative approach to treat iron deficiency anemia in infants and young children.\n",
      "The reference could not be found automaticaly, please add it to the list manually\n",
      "Iron deficiency in rural Ghanaian children.\n",
      "Agyei-Frempong MT, Asare G, Owiredu WK, Yeboah FA.\n",
      "The reference could not be found automaticaly, please add it to the list manually\n",
      "Effectiveness of two programs of intermittent\n",
      "The reference could not be found automaticaly, please add it to the list manually\n",
      "ferrous supplementation for treating iron-deficiency anemia in infants: randomized clinical trial.\n",
      "The reference could not be found automaticaly, please add it to the list manually\n",
      "Iron deficiency anemia in children\n",
      "The reference could not be found automaticaly, please add it to the list manually\n",
      "Effectiveness of treatment of iron-deficiency anemia in infants and young children with ferrous bis-glycinatechelate.\n",
      "The reference could not be found automaticaly, please add it to the list manually\n",
      "Effect of twice weekly versus daily iron treatment inTurkish children with iron deficiency anemia.\n",
      "The reference could not be found automaticaly, please add it to the list manually\n",
      "Iron Deficiency Anaemia Assessment, Prevention\n",
      "The reference could not be found automaticaly, please add it to the list manually\n",
      "and Control A guide for programme managers\n",
      "The reference could not be found automaticaly, please add it to the list manually\n",
      "Iron deficiency in infancy and childhood.\n",
      "The reference could not be found automaticaly, please add it to the list manually\n",
      "Iron Deficiency Anaemia Assessment, Prevention\n",
      "The reference could not be found automaticaly, please add it to the list manually\n",
      "and Control A guide for programme managers\n",
      "The reference could not be found automaticaly, please add it to the list manually\n",
      "Iron therapy for preterm infants.\n",
      "The reference could not be found automaticaly, please add it to the list manually\n",
      "Optimal feeding of low-birth-weight infants.\n",
      "Edmond K, Bahl R\n",
      "The reference could not be found automaticaly, please add it to the list manually\n",
      "Handboek 2\n",
      "The reference could not be found automaticaly, please add it to the list manually\n",
      "Handboek 2\n"
     ]
    }
   ],
   "source": [
    "#Loop over the reference list in the docx file\n",
    "for ref in referenceList:\n",
    "    ref = ref.strip()\n",
    "    if (ref.lower().startswith('reference')):\n",
    "        print('There might be some problem with the reference below. \\\n",
    "            Please check and add the reference if it is not on the list',ref)\n",
    "        continue\n",
    "    elif (ref.strip() == ''):\n",
    "        print('There might be some problem with the reference below. \\\n",
    "            Please check and add the reference if it is not on the list',ref)\n",
    "        continue\n",
    "    else:\n",
    "        try:\n",
    "            # Search the article in the Pubmed Database\n",
    "            PubmedSearchResults = search(ref)\n",
    "            id_list = PubmedSearchResults['IdList']\n",
    "            textTitle = ref\n",
    "            #Return the research result\n",
    "#             print('####Looking For ----', textTitle)\n",
    "            papers = fetch_details(id_list)\n",
    "            referenceFound = False\n",
    "\n",
    "            for paperIndex, paper in enumerate(papers['PubmedArticle']):\n",
    "                paperTitle = paper['MedlineCitation']['Article']['ArticleTitle'].strip(punctuation).strip()\n",
    "                if (paperTitle == textTitle.strip(punctuation).strip()):\n",
    "                    doi = ''\n",
    "                    for idn, ids in enumerate(papers['PubmedArticle'][paperIndex]['PubmedData']['ArticleIdList']):\n",
    "                        if papers['PubmedArticle'][paperIndex]['PubmedData']['ArticleIdList'][idn].attributes['IdType'] == 'doi':\n",
    "                            doi = papers['PubmedArticle'][paperIndex]['PubmedData']['ArticleIdList'][idn]\n",
    "\n",
    "                    abstract = ''\n",
    "                    if 'Abstract' in paper['MedlineCitation']['Article']:\n",
    "                        abstract = ' '.join([str(x) for x in paper['MedlineCitation']['Article']['Abstract']['AbstractText']])\n",
    "\n",
    "                    data = [id_list[paperIndex], paperTitle, abstract, doi, 1]\n",
    "                    with open(csv_path, 'a') as csvfile:\n",
    "                        cw = csv.writer(csvfile, delimiter=',')\n",
    "                        cw.writerow(data)\n",
    "                    referenceFound = True \n",
    "                    break\n",
    "\n",
    "        except:\n",
    "            print('The reference could not be found automaticaly, please add it to the list manually')\n",
    "            print(ref)\n",
    "\n",
    "        if not referenceFound:\n",
    "            print('The reference could not be found automaticaly, please add it to the list manually')\n",
    "            print(ref)"
   ]
  },
  {
   "cell_type": "code",
   "execution_count": 12,
   "id": "1e16b2f1",
   "metadata": {},
   "outputs": [
    {
     "name": "stdout",
     "output_type": "stream",
     "text": [
      "Iron deficiency in infancy and childhood.\n"
     ]
    }
   ],
   "source": [
    "search_query = referenceList[7]\n",
    "print(search_query)"
   ]
  },
  {
   "cell_type": "code",
   "execution_count": 13,
   "id": "04c51972",
   "metadata": {},
   "outputs": [
    {
     "name": "stdout",
     "output_type": "stream",
     "text": [
      "['34519599', '29897579', '31566157', '28233303', '34424013', '32778008', '31091416', '22770698', '34692346', '23731448', '25636824', '23772831', '34203528', '28933876', '24117340', '27778088', '30477632', '25512881', '30783211', '29070552']\n"
     ]
    }
   ],
   "source": [
    "# Search the article in the Pubmed Database\n",
    "try:\n",
    "    PubmedSearchResults = search(search_query)\n",
    "    id_list = PubmedSearchResults['IdList']\n",
    "    print(id_list)\n",
    "    textTitle = search_query\n",
    "    #Return the research result\n",
    "    papers = fetch_details(id_list)\n",
    "except:\n",
    "    print('The reference could not be found automaticaly, please add it to the list manually')\n"
   ]
  },
  {
   "cell_type": "code",
   "execution_count": 14,
   "id": "e4ac2194",
   "metadata": {},
   "outputs": [
    {
     "name": "stdout",
     "output_type": "stream",
     "text": [
      "It is not this item  Iron Deficiency in Infancy and Sluggish Cognitive Tempo and ADHD Symptoms in Childhood and Adolescence\n",
      "It is not this item  Iron Deficiency, Anemia, and Low Vitamin B-12 Serostatus in Middle Childhood Are Associated with Behavior Problems in Adolescent Boys: Results from the Bogotá School Children Cohort\n",
      "It is not this item  Iron deficiency in healthy 18-month-old Danish children is associated with no oral iron supplementation in infancy and prolonged exclusive breast-feeding\n",
      "It is not this item  Associations Among Infant Iron Deficiency, Childhood Emotion and Attention Regulation, and Adolescent Problem Behaviors\n",
      "It is not this item  Iron deficiency in infancy and neurocognitive and educational outcomes in young adulthood\n",
      "It is not this item  Young adult outcomes associated with lower cognitive functioning in childhood related to iron-fortified formula in infancy\n",
      "It is not this item  The Benefits and Risks of Iron Supplementation in Pregnancy and Childhood\n",
      "It is not this item  Iron deficiency anemia in infancy exerts long-term effects on the tibialis anterior motor activity during sleep in childhood\n",
      "It is not this item  Iron Deficiency-Induced Changes in the Hippocampus, Corpus Striatum, and Monoamines Levels That Lead to Anxiety, Depression, Sleep Disorders, and Psychotic Disorders\n",
      "It is not this item  Effect of iron intervention on growth during gestation, infancy, childhood, and adolescence: a systematic review with meta-analysis\n",
      "It is not this item  Iron deficiency anemia in children\n",
      "It is not this item  Iron status and developmental scores in 6-year-olds highlights ongoing need to tackle iron deficiency in infants\n",
      "It is not this item  Maternal Iron Status in Pregnancy and Child Health Outcomes after Birth: A Systematic Review and Meta-Analysis\n",
      "It is not this item  Infant iron deficiency, child affect, and maternal unresponsiveness: Testing the long-term effects of functional isolation\n",
      "It is not this item  Impact of glucose-6-phosphate dehydrogenase deficiency on sickle cell anaemia expression in infancy and early childhood: a prospective study\n",
      "It is not this item  Association between full breastfeeding, timing of complementary food introduction, and iron status in infancy in Germany: results of a secondary analysis of a randomized trial\n",
      "It is not this item  Association between iron deficiency and brain developmental disorder in children\n",
      "It is not this item  Striking while the iron is hot: Understanding the biological and neurodevelopmental effects of iron deficiency to optimize intervention in early childhood\n",
      "It is not this item  A systematic literature review of the relation between iron status/anemia in pregnancy and offspring neurodevelopment\n",
      "It is not this item  The effects of iron fortification and supplementation on the gut microbiome and diarrhea in infants and children: a review\n",
      "The reference could not be found automaticaly, please add it to the list manually\n",
      "Handboek 2\n"
     ]
    }
   ],
   "source": [
    "referenceFound = False\n",
    "for paperIndex, paper in enumerate(papers['PubmedArticle']):\n",
    "    paperTitle = paper['MedlineCitation']['Article']['ArticleTitle'].strip(punctuation).strip()\n",
    "    if (paperTitle == textTitle.strip(punctuation).strip()):\n",
    "        print('item found', paperTitle)\n",
    "        doi = ''\n",
    "        for idn, ids in enumerate(papers['PubmedArticle'][paperIndex]['PubmedData']['ArticleIdList']):\n",
    "            if papers['PubmedArticle'][paperIndex]['PubmedData']['ArticleIdList'][idn].attributes['IdType'] == 'doi':\n",
    "                doi = papers['PubmedArticle'][paperIndex]['PubmedData']['ArticleIdList'][idn]\n",
    "\n",
    "        abstract = ''\n",
    "        if 'Abstract' in paper['MedlineCitation']['Article']:\n",
    "            abstract = ' '.join([str(x) for x in paper['MedlineCitation']['Article']['Abstract']['AbstractText']])\n",
    "\n",
    "        data = [id_list[paperIndex], paperTitle, abstract, doi, 1]\n",
    "        with open(csv_path, 'a') as csvfile:\n",
    "            cw = csv.writer(csvfile, delimiter=',')\n",
    "            cw.writerow(data)\n",
    "        referenceFound = True \n",
    "        break\n",
    "    else:\n",
    "        print('It is not this item ', paperTitle )\n",
    "\n",
    "if not referenceFound:\n",
    "    print('The reference could not be found automaticaly, please add it to the list manually')\n",
    "    print(ref)"
   ]
  },
  {
   "cell_type": "code",
   "execution_count": 94,
   "id": "68d1a2d1",
   "metadata": {},
   "outputs": [
    {
     "data": {
      "text/plain": [
       "[StringElement('34496782', attributes={'IdType': 'pubmed'}), StringElement('10.1186/s12887-021-02638-8', attributes={'IdType': 'doi'}), StringElement('10.1186/s12887-021-02638-8', attributes={'IdType': 'pii'}), StringElement('PMC8424794', attributes={'IdType': 'pmc'})]"
      ]
     },
     "execution_count": 94,
     "metadata": {},
     "output_type": "execute_result"
    }
   ],
   "source": [
    "papers['PubmedArticle'][0]['PubmedData']['ArticleIdList']"
   ]
  },
  {
   "cell_type": "code",
   "execution_count": 98,
   "id": "d9361635",
   "metadata": {},
   "outputs": [
    {
     "name": "stdout",
     "output_type": "stream",
     "text": [
      "34496782 0\n",
      "10.1186/s12887-021-02638-8 1\n",
      "doi 10.1186/s12887-021-02638-8\n",
      "10.1186/s12887-021-02638-8 2\n",
      "PMC8424794 3\n"
     ]
    }
   ],
   "source": [
    "for idn, ids in enumerate(papers['PubmedArticle'][0]['PubmedData']['ArticleIdList']):\n",
    "    print(ids,idn)\n",
    "    if papers['PubmedArticle'][0]['PubmedData']['ArticleIdList'][idn].attributes['IdType'] == 'doi':\n",
    "        print('doi', ids)"
   ]
  },
  {
   "cell_type": "code",
   "execution_count": 99,
   "id": "a9407c4b",
   "metadata": {},
   "outputs": [
    {
     "data": {
      "text/plain": [
       "StringElement('10.1186/s12887-021-02638-8', attributes={'IdType': 'doi'})"
      ]
     },
     "execution_count": 99,
     "metadata": {},
     "output_type": "execute_result"
    }
   ],
   "source": [
    "papers['PubmedArticle'][0]['PubmedData']['ArticleIdList'][1]"
   ]
  },
  {
   "cell_type": "code",
   "execution_count": 56,
   "id": "ac8e9c8f",
   "metadata": {},
   "outputs": [
    {
     "data": {
      "text/plain": [
       "3"
      ]
     },
     "execution_count": 56,
     "metadata": {},
     "output_type": "execute_result"
    }
   ],
   "source": [
    "len(papers['PubmedArticle'])"
   ]
  },
  {
   "cell_type": "code",
   "execution_count": null,
   "id": "92d62a79",
   "metadata": {},
   "outputs": [],
   "source": []
  }
 ],
 "metadata": {
  "kernelspec": {
   "display_name": "Python 3 (ipykernel)",
   "language": "python",
   "name": "python3"
  },
  "language_info": {
   "codemirror_mode": {
    "name": "ipython",
    "version": 3
   },
   "file_extension": ".py",
   "mimetype": "text/x-python",
   "name": "python",
   "nbconvert_exporter": "python",
   "pygments_lexer": "ipython3",
   "version": "3.8.10"
  }
 },
 "nbformat": 4,
 "nbformat_minor": 5
}
