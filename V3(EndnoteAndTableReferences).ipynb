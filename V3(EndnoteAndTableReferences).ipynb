{
 "cells": [
  {
   "cell_type": "code",
   "execution_count": 2,
   "id": "868b2c22",
   "metadata": {},
   "outputs": [
    {
     "name": "stdout",
     "output_type": "stream",
     "text": [
      "The autoreload extension is already loaded. To reload it, use:\n",
      "  %reload_ext autoreload\n"
     ]
    }
   ],
   "source": [
    "%load_ext autoreload\n",
    "%autoreload 2\n",
    "%reload_ext autoreload"
   ]
  },
  {
   "cell_type": "code",
   "execution_count": 4,
   "id": "f41bd517",
   "metadata": {},
   "outputs": [],
   "source": [
    "import docx\n",
    "from string import punctuation\n",
    "import re\n",
    "import csv \n",
    "import os\n",
    "from simhash import Simhash, SimhashIndex"
   ]
  },
  {
   "cell_type": "code",
   "execution_count": 6,
   "id": "1ab89fda",
   "metadata": {},
   "outputs": [],
   "source": [
    "from src.utils import search_API, fetch_details, create_csv_path, collectFromEndnote, collectFromTables"
   ]
  },
  {
   "cell_type": "code",
   "execution_count": 12,
   "id": "fbaa2b11",
   "metadata": {},
   "outputs": [],
   "source": [
    "rba_path = os.path.abspath('data/1. Risicoanalyse kinderformularium gentamicine nieuw.docx')"
   ]
  },
  {
   "cell_type": "code",
   "execution_count": 13,
   "id": "828cf5fa",
   "metadata": {},
   "outputs": [],
   "source": [
    "csv_path = create_csv_path(rba_path)"
   ]
  },
  {
   "cell_type": "code",
   "execution_count": 16,
   "id": "f81160ca",
   "metadata": {},
   "outputs": [
    {
     "data": {
      "text/plain": [
       "'/Users/sekiz/workspaces/paper-kinderformularium/data/csv/1. Risicoanalyse kinderformularium gentamicine nieuw.csv'"
      ]
     },
     "execution_count": 16,
     "metadata": {},
     "output_type": "execute_result"
    }
   ],
   "source": [
    "csv_path"
   ]
  },
  {
   "cell_type": "code",
   "execution_count": 14,
   "id": "287d8c59",
   "metadata": {},
   "outputs": [],
   "source": [
    "referenceList = collectFromEndnote(rba_path)"
   ]
  },
  {
   "cell_type": "code",
   "execution_count": 15,
   "id": "f4b934b0",
   "metadata": {},
   "outputs": [
    {
     "data": {
      "text/plain": [
       "26"
      ]
     },
     "execution_count": 15,
     "metadata": {},
     "output_type": "execute_result"
    }
   ],
   "source": [
    "len(referenceList)"
   ]
  },
  {
   "cell_type": "code",
   "execution_count": 11,
   "id": "96cb3c40",
   "metadata": {},
   "outputs": [],
   "source": [
    "def writeFromEndnoteTOCsv(referenceList, csv_path):\n",
    "    header = ['record_id', 'title', 'abstract', 'doi', 'final_included']\n",
    "    with open(csv_path, 'w', newline='') as csvfile:\n",
    "        cw = csv.writer(csvfile, delimiter=',')\n",
    "        cw.writerow(header)\n",
    "\n",
    "    #Loop over the reference list in the docx file\n",
    "    for ref in referenceList:\n",
    "        search_query = ref['p_doi'] if ref['p_doi'] else ref['p_title'] \n",
    "    #     print('#search_query', search_query)\n",
    "        try:\n",
    "            PubmedSearchResults = search_API(search_query)\n",
    "            id_list = PubmedSearchResults['IdList']\n",
    "            #todo If id_list is empty find a ways to reproduce it\n",
    "            papers = fetch_details(id_list)\n",
    "            referenceFound = False\n",
    "\n",
    "            for paperIndex, paper in enumerate(papers['PubmedArticle']):\n",
    "                paperTitle = paper['MedlineCitation']['Article']['ArticleTitle'].strip(punctuation).strip()\n",
    "                if (Simhash(paperTitle).distance(Simhash(ref['p_title'])) <= 5):\n",
    "                    # Todo Add Author confirmation as well\n",
    "                    doi = ''\n",
    "                    for idn, ids in enumerate(papers['PubmedArticle'][paperIndex]['PubmedData']['ArticleIdList']):\n",
    "                        if papers['PubmedArticle'][paperIndex]['PubmedData']['ArticleIdList'][idn].attributes['IdType'] == 'doi':\n",
    "                            doi = papers['PubmedArticle'][paperIndex]['PubmedData']['ArticleIdList'][idn]\n",
    "\n",
    "                    abstract = ''\n",
    "                    if 'Abstract' in paper['MedlineCitation']['Article']:\n",
    "                        abstract = ' '.join([str(x) for x in paper['MedlineCitation']['Article']['Abstract']['AbstractText']])\n",
    "\n",
    "                    data = [id_list[paperIndex], paperTitle, abstract, doi, 1]\n",
    "                    with open(csv_path, 'a') as csvfile:\n",
    "                        cw = csv.writer(csvfile, delimiter=',')\n",
    "                        cw.writerow(data)\n",
    "                    referenceFound = True \n",
    "                    break\n",
    "            if not referenceFound:\n",
    "                if (len(search_query.split(' ')) < 8):\n",
    "                    search_query = search_query + ' ' + ref['p_authors'].split(' ')[0]\n",
    "                    print('!!!!!!!!!!!!!!!', search_query)\n",
    "    #                 elif (len(search_query.split(' ')) >= 8):\n",
    "    #                 If it is longer divide it half first then remove 1 by 1\n",
    "\n",
    "\n",
    "        except:\n",
    "            print('!!!! The reference could not be found automaticaly: ', ref['p_title'])\n"
   ]
  },
  {
   "cell_type": "code",
   "execution_count": 24,
   "id": "23524d12",
   "metadata": {},
   "outputs": [
    {
     "name": "stdout",
     "output_type": "stream",
     "text": [
      "!!!! The reference could not be found automaticaly:  NVK werkboek Infectieziekten bij kinderen\n",
      "!!!! The reference could not be found automaticaly:  TDM gentamicine 8-7-2015\n",
      "!!!! The reference could not be found automaticaly:  Werkboek kindernefrologie 2010\n",
      "!!!!!!!!!!!!!!! Drug prescribing in renal failure Aronoff\n",
      "!!!! The reference could not be found automaticaly:  Population pharmacokinetic study of gentamicin in a large cohort of premature and term neonates\n"
     ]
    }
   ],
   "source": [
    "writeFromEndnoteTOCsv(referenceList, csv_path)"
   ]
  },
  {
   "cell_type": "markdown",
   "id": "e2cd5960",
   "metadata": {},
   "source": [
    "### TODO   \n",
    "Make a function that creates new search term for the articles that couldnt be found and make kind of recursive to send the new search term to API every time until it is found  \n",
    "- Preferably 3 trial would be enough   \n",
    "- If the length is shorter than 5 or 6 just remove one word\n",
    "- if it is too long first divide it to half then remove one word\n",
    "- if it is too short try sending with a author name\n"
   ]
  },
  {
   "cell_type": "code",
   "execution_count": 20,
   "id": "a7538d74",
   "metadata": {},
   "outputs": [],
   "source": [
    "search_query = 'Population pharmacokinetic study of gentamicin '"
   ]
  },
  {
   "cell_type": "code",
   "execution_count": 21,
   "id": "1f57edc3",
   "metadata": {},
   "outputs": [
    {
     "name": "stdout",
     "output_type": "stream",
     "text": [
      "20 ['31102287', '29957666', '29521784', '28062683', '29704547', '28533244', '28038961', '31286535', '30300445', '34362436', '24522409', '34625981', '24938850', '30917981', '28475651', '25225917', '30980613', '30882729', '27420805', '32394828']\n"
     ]
    }
   ],
   "source": [
    "PubmedSearchResults = search_API(search_query)\n",
    "id_list = PubmedSearchResults['IdList']\n",
    "print(len(id_list), id_list)"
   ]
  },
  {
   "cell_type": "code",
   "execution_count": 22,
   "id": "8ef7f33d",
   "metadata": {},
   "outputs": [],
   "source": [
    "papers = fetch_details(id_list)"
   ]
  },
  {
   "cell_type": "code",
   "execution_count": null,
   "id": "1818312b",
   "metadata": {},
   "outputs": [],
   "source": []
  },
  {
   "cell_type": "code",
   "execution_count": 113,
   "id": "2a2766a4",
   "metadata": {},
   "outputs": [],
   "source": [
    "trial = 1\n",
    "if not id_list:\n",
    "    new_search_query = createNewSearchTerm(ref, trial)\n",
    "    trial += 1"
   ]
  },
  {
   "cell_type": "code",
   "execution_count": 131,
   "id": "98e4c801",
   "metadata": {},
   "outputs": [],
   "source": [
    "new_search_query = createNewSearchTerm(ref, 7)"
   ]
  },
  {
   "cell_type": "code",
   "execution_count": 132,
   "id": "4a982216",
   "metadata": {},
   "outputs": [
    {
     "data": {
      "text/plain": [
       "False"
      ]
     },
     "execution_count": 132,
     "metadata": {},
     "output_type": "execute_result"
    }
   ],
   "source": [
    "new_search_query"
   ]
  },
  {
   "cell_type": "code",
   "execution_count": 130,
   "id": "db9d8ba4",
   "metadata": {},
   "outputs": [],
   "source": [
    "def createNewSearchTerm(searchTerm, trial):\n",
    "    if len(searchTerm.split(' '))/2 > 2 and  trial == 1:\n",
    "        newTerm = ' '.join(str(x) for x in searchTerm.split(' ')[0:int(len(searchTerm.split(' '))/2)])\n",
    "        return newTerm\n",
    "    elif (len(searchTerm.split(' '))/2-trial +1) > 2 and trial != 1:\n",
    "        newTerm = ' '.join(str(x) for x in searchTerm.split(' ')[0:int(len(searchTerm.split(' '))/2)-trial +1])\n",
    "        return newTerm\n",
    "    else:\n",
    "        return False"
   ]
  },
  {
   "cell_type": "code",
   "execution_count": 25,
   "id": "09d2e81b",
   "metadata": {},
   "outputs": [],
   "source": [
    "papers = fetch_details(id_list)"
   ]
  },
  {
   "cell_type": "code",
   "execution_count": null,
   "id": "3d629e0b",
   "metadata": {},
   "outputs": [],
   "source": []
  },
  {
   "cell_type": "code",
   "execution_count": null,
   "id": "21932015",
   "metadata": {},
   "outputs": [],
   "source": []
  },
  {
   "cell_type": "code",
   "execution_count": null,
   "id": "1f8f42bd",
   "metadata": {},
   "outputs": [],
   "source": []
  },
  {
   "cell_type": "code",
   "execution_count": null,
   "id": "0bc87bf2",
   "metadata": {},
   "outputs": [],
   "source": [
    "### version also uses runs not only paragraphs\n",
    "    \n",
    "doc = Document(rba_path)\n",
    "table_headers = ['bron', 'bewijs', 'effect', 'opmerkingen', 'source', 'evidence', 'effect', 'remarks']\n",
    "data = []\n",
    "referenceListfromTable = []\n",
    "authorListfromTable = []\n",
    "for table in doc.tables:\n",
    "    for i, row in enumerate(table.rows):\n",
    "\n",
    "        text = [cell.text.lower() for cell in row.cells]\n",
    "\n",
    "        if i == 0:\n",
    "            effect_index = text.index('effect') if 'effect' in text else None\n",
    "            continue\n",
    "\n",
    "#         if effect_index is None:\n",
    "#             continue\n",
    "\n",
    "        for j, cell in enumerate(row.cells):\n",
    "\n",
    "            if j==effect_index:\n",
    "\n",
    "                bold_text = ''\n",
    "                authorsText = ''\n",
    "                authorsTextRaw = ''\n",
    "                untilSummary = False\n",
    "                \n",
    "                for paragraph in cell.paragraphs:\n",
    "                    for k, run in enumerate(paragraph.runs):\n",
    "                        if run.bold and authorsTextRaw == '':\n",
    "                            justReadBold = True\n",
    "                            bold_text += run.text.strip() + ' '\n",
    "                        elif ('et al' in run.text and not paragraph.runs[k-1].bold \n",
    "                                  and authorsTextRaw == ''):\n",
    "\n",
    "                            if (paragraph.runs[k-1].text not in run.text):\n",
    "                                authorsTextRaw = paragraph.runs[k-1].text + run.text\n",
    "                            else:\n",
    "                                authorsTextRaw = run.text\n",
    "                            authorsText = authorsTextRaw.strip(punctuation).strip()\n",
    "                            authorsText = re.sub(r'et al.*\\d*', '',authorsText).strip()\n",
    "                        \n",
    "                        \n",
    "                        elif run.underline and (run.text.lower().startswith('samenvatting') \n",
    "                          or run.text.lower().startswith('summary')):\n",
    "                            print(run.text)\n",
    "#                             print(authorsText, authorsTextRaw)\n",
    "#                         else:\n",
    "#                             print(run.text)\n",
    "                if bold_text.strip() != ''  and re.search(r'^[0-9].[0-9]', bold_text) is None: \n",
    "                    referenceListfromTable.append(bold_text.strip().replace('\\xa0',' '))\n",
    "                    authorListfromTable.append({\n",
    "                        'title': bold_text.strip().replace('\\xa0',' '),\n",
    "#                         'authors': authorsText,\n",
    "                        'authors': authorsTextRaw\n",
    "                    })"
   ]
  },
  {
   "cell_type": "code",
   "execution_count": 28,
   "id": "926e934a",
   "metadata": {},
   "outputs": [],
   "source": []
  },
  {
   "cell_type": "code",
   "execution_count": 33,
   "id": "24492067",
   "metadata": {},
   "outputs": [],
   "source": [
    "referencesFromTables = collectFromTables(rba_path)"
   ]
  },
  {
   "cell_type": "code",
   "execution_count": 34,
   "id": "5edbd3b5",
   "metadata": {},
   "outputs": [
    {
     "data": {
      "text/plain": [
       "[{'p_title': 'Gentamicin and tobramycin in neonates: compari-son of a new extended dosing interval regimen with a traditional multiple daily dosing regimen',\n",
       "  'p_authors': ' Avent ML et al.'},\n",
       " {'p_title': 'Use of 4-mg/kg/24-hour empiric aminoglycoside dosing in preoperative neonates with congenital heart disease',\n",
       "  'p_authors': ' Moffett BS et al.'},\n",
       " {'p_title': 'Impact of small-for-gestational age (SGA) status on gentamicin pharmacokinetics in neonates',\n",
       "  'p_authors': ' Lulic‐Botica M et al.'},\n",
       " {'p_title': 'Pharmacokinetics of gentamicin in newborns with moderate-to-severe hypoxic-ischemic encephalopathy undergoing therapeutic hypothermia',\n",
       "  'p_authors': ' Ting JY et al.'},\n",
       " {'p_title': 'Standard or individualised gentamicin dosing for neonates',\n",
       "  'p_authors': ' Caldwell N et al.'},\n",
       " {'p_title': 'Novel model-based dosing guidelines for gentamicin and tobramycin in preterm and term neonates',\n",
       "  'p_authors': ' Valitalo PA et al.'},\n",
       " {'p_title': 'Gentamicin trough levels using a simplified extended-interval dosing regimen in preterm and term newborns',\n",
       "  'p_authors': ' König K et al.'},\n",
       " {'p_title': 'Altered gentamicin pharmacokinetics in term neonates undergoing controlled hypothermia',\n",
       "  'p_authors': ' Bijleveld YA et al.'},\n",
       " {'p_title': 'Performance of a dosage individualization table for extended interval gentamicin in neonates beyond the first week of life',\n",
       "  'p_authors': ' Dersch-Mills D et al.'},\n",
       " {'p_title': 'Population Pharmacokinetics and Dosing Considerations for Gentamicin in Newborns with Suspected or Proven Sepsis Caused by Gram-Negative Bacteria',\n",
       "  'p_authors': ' Bijleveld YA et al.'},\n",
       " {'p_title': 'Extended-interval gentamicin administration in neonates: a simplified approach',\n",
       "  'p_authors': ' (El-Chaar et al. 2016)'},\n",
       " {'p_title': 'Extended-Interval Dosing of Gentamicin Aiming for a Drug-Free Period in Neonates: A Prospective Cohort Study',\n",
       "  'p_authors': ' (van Maarseveen, Sprij, and Touw 2016)'},\n",
       " {'p_title': \"Extended-interval Dosing of Gentamicin in Premature Neonates Born at <32 Weeks' Gestation and >7 Days of age\",\n",
       "  'p_authors': ' (Sundaram et al. 2017)'},\n",
       " {'p_title': 'Quantitative Analysis of Gentamicin Exposure in Neonates and Infants Calls into Question Its Current Dosing Recommendations',\n",
       "  'p_authors': ' (van Donge et al. 2018)'},\n",
       " {'p_title': 'Population Pharmacokinetic Analysis of Gentamicin in Pediatric Extracorporeal Membrane Oxygenation',\n",
       "  'p_authors': ' (Moffett, Morris, et al. 2018)'},\n",
       " {'p_title': 'Extended-interval dosing of gentamicin for treatment of neonatal sepsis in developed and developing countries',\n",
       "  'p_authors': ' Darmstadt GL et al.'},\n",
       " {'p_title': 'One dose per day compared to multiple doses per day of gentamicin for treatment of suspected or proven sepsis in neonates',\n",
       "  'p_authors': ' Rao SC et al.'},\n",
       " {'p_title': 'Clinical pharmacokinetics of aminoglycosides in the neonate: a review',\n",
       "  'p_authors': ' Pacifici GM'},\n",
       " {'p_title': 'Once-daily gentamicin dosing in children with febrile neutropenia resulting from antineoplastic therapy',\n",
       "  'p_authors': ' Inparajah M et al.'},\n",
       " {'p_title': 'Dose derivation of once-daily dosing guidelines for gentamicin in critically ill pediatric patients',\n",
       "  'p_authors': ' Zakova M et al.'},\n",
       " {'p_title': 'Population pharmacokinetics of gentamicin and dosing optimization for infants',\n",
       "  'p_authors': ' Medellín-Garibay SE et al.'},\n",
       " {'p_title': 'Gentamicin Pharmacokinetics and Monitoring in Pediatric Patients with Febrile Neutropenia',\n",
       "  'p_authors': ' (Bialkowski et al. 2016)'},\n",
       " {'p_title': 'A Population Pharmacokinetic Model of Gentamicin in Pediatric Oncology Patients To Facilitate Personalized Dosing',\n",
       "  'p_authors': ' (Llanos-Paez et al. 2017)'},\n",
       " {'p_title': 'Balancing Antibacterial Efficacy and Reduction in Renal Function to Optimise Initial Gentamicin Dosing in Paediatric Oncology Patients',\n",
       "  'p_authors': ' (Llanos-Paez, Staatz, and Hennig 2017)'},\n",
       " {'p_title': 'Altered gentamicin serum concentrations in obese pediatric patients',\n",
       "  'p_authors': ' (Choi et al. 2011)'},\n",
       " {'p_title': 'The \"Ideal\" Body Weight for Pediatric Gentamicin Dosing in the Era of Obesity: A Population Pharmacokinetic Analysis',\n",
       "  'p_authors': ' (Moffett, Kam, et al. 2018)'},\n",
       " {'p_title': 'Epidemiology, Diagnosis, and Antimicrobial Treatment of Acute Bacterial Meningitis',\n",
       "  'p_authors': ' Brouwer MC et al.'}]"
      ]
     },
     "execution_count": 34,
     "metadata": {},
     "output_type": "execute_result"
    }
   ],
   "source": [
    "referencesFromTables"
   ]
  },
  {
   "cell_type": "code",
   "execution_count": 67,
   "id": "458bd719",
   "metadata": {},
   "outputs": [],
   "source": []
  },
  {
   "cell_type": "code",
   "execution_count": null,
   "id": "5a42f418",
   "metadata": {},
   "outputs": [],
   "source": [
    "def writeFromTablesToCsv():\n",
    "    header = ['record_id', 'title', 'abstract', 'doi', 'final_included']\n",
    "    with open(csv_path, 'w', newline='') as csvfile:\n",
    "        cw = csv.writer(csvfile, delimiter=',')\n",
    "        cw.writerow(header)\n",
    "\n",
    "    #Loop over the reference list in the docx file\n",
    "    for ref in referencesFromTables:\n",
    "        ref = ref['title'].strip()\n",
    "\n",
    "        if (ref.lower().startswith('reference') or ref.lower().startswith('referen')):\n",
    "            print('There might be some problem with the reference below. \\\n",
    "                Please check and add the reference if it is not on the list',ref)\n",
    "            continue\n",
    "        elif (ref.strip() == ''):\n",
    "            print('There might be some problem with the reference below. \\\n",
    "                Please check and add the reference if it is not on the list',ref)\n",
    "            continue\n",
    "        else:\n",
    "            try:\n",
    "                papers = searchArticle(ref)\n",
    "                referenceFound = False\n",
    "\n",
    "                for paperIndex, paper in enumerate(papers['PubmedArticle']):\n",
    "                    paperTitle = paper['MedlineCitation']['Article']['ArticleTitle'].strip(punctuation).strip()\n",
    "                    if (paperTitle == textTitle.strip(punctuation).strip()):\n",
    "                        doi = ''\n",
    "                        for idn, ids in enumerate(papers['PubmedArticle'][paperIndex]['PubmedData']['ArticleIdList']):\n",
    "                            if papers['PubmedArticle'][paperIndex]['PubmedData']['ArticleIdList'][idn].attributes['IdType'] == 'doi':\n",
    "                                doi = papers['PubmedArticle'][paperIndex]['PubmedData']['ArticleIdList'][idn]\n",
    "\n",
    "                        abstract = ''\n",
    "                        if 'Abstract' in paper['MedlineCitation']['Article']:\n",
    "                            abstract = ' '.join([str(x) for x in paper['MedlineCitation']['Article']['Abstract']['AbstractText']])\n",
    "\n",
    "                        data = [id_list[paperIndex], paperTitle, abstract, doi, 1]\n",
    "                        with open(csv_path, 'a') as csvfile:\n",
    "                            cw = csv.writer(csvfile, delimiter=',')\n",
    "                            cw.writerow(data)\n",
    "                        referenceFound = True \n",
    "                        break\n",
    "\n",
    "            except:\n",
    "                print('!!!! The reference could not be found automaticaly, please add it to the list manually')\n",
    "                print(ref)"
   ]
  }
 ],
 "metadata": {
  "kernelspec": {
   "display_name": "Python 3 (ipykernel)",
   "language": "python",
   "name": "python3"
  },
  "language_info": {
   "codemirror_mode": {
    "name": "ipython",
    "version": 3
   },
   "file_extension": ".py",
   "mimetype": "text/x-python",
   "name": "python",
   "nbconvert_exporter": "python",
   "pygments_lexer": "ipython3",
   "version": "3.8.9"
  }
 },
 "nbformat": 4,
 "nbformat_minor": 5
}
