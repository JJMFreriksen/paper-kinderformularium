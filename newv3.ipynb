{
 "cells": [
  {
   "cell_type": "code",
   "execution_count": 3,
   "id": "868b2c22",
   "metadata": {},
   "outputs": [
    {
     "name": "stdout",
     "output_type": "stream",
     "text": [
      "The autoreload extension is already loaded. To reload it, use:\n",
      "  %reload_ext autoreload\n"
     ]
    }
   ],
   "source": [
    "%load_ext autoreload\n",
    "%autoreload 2\n",
    "%reload_ext autoreload"
   ]
  },
  {
   "cell_type": "code",
   "execution_count": 4,
   "id": "f41bd517",
   "metadata": {},
   "outputs": [],
   "source": [
    "import docx\n",
    "from string import punctuation\n",
    "import re\n",
    "import csv \n",
    "import os\n",
    "from simhash import Simhash, SimhashIndex"
   ]
  },
  {
   "cell_type": "code",
   "execution_count": 5,
   "id": "1ab89fda",
   "metadata": {},
   "outputs": [],
   "source": [
    "from src.utils import search_API, fetch_details, create_csv_path, collectFromEndnote, collectFromTables"
   ]
  },
  {
   "cell_type": "code",
   "execution_count": null,
   "id": "4ec39b39",
   "metadata": {},
   "outputs": [],
   "source": []
  },
  {
   "cell_type": "code",
   "execution_count": 13,
   "id": "b45ee6bd",
   "metadata": {},
   "outputs": [],
   "source": [
    "rba_path = os.path.abspath('data/1. Risicoanalyse kinderformularium gentamicine nieuw.docx')"
   ]
  },
  {
   "cell_type": "code",
   "execution_count": 14,
   "id": "828cf5fa",
   "metadata": {},
   "outputs": [],
   "source": [
    "csv_path = create_csv_path(rba_path)"
   ]
  },
  {
   "cell_type": "code",
   "execution_count": 15,
   "id": "3580e662",
   "metadata": {},
   "outputs": [],
   "source": [
    "referenceList = collectFromEndnote(rba_path)"
   ]
  },
  {
   "cell_type": "code",
   "execution_count": 78,
   "id": "458bd719",
   "metadata": {},
   "outputs": [],
   "source": [
    "def writeFromEndnoteToCsv(referenceList):\n",
    "    #Loop over the reference list in the docx file\n",
    "    for ref in referenceList:\n",
    "        ref = ref.strip()\n",
    "        if (ref.lower().startswith('referen')):\n",
    "            continue\n",
    "        elif (ref.strip() == ''):\n",
    "            continue\n",
    "        else:\n",
    "            print('')\n",
    "            search_item = {\n",
    "                'p_authors': '',\n",
    "                'p_title': '',\n",
    "                'p_doi': ''\n",
    "            }\n",
    "            x1 = re.findall(\"(.*et al.?)([^.]+).\", ref)\n",
    "            x2 = re.findall(\"(.*)\\d{4}.?\\s?(\\\".*\\\")\", ref)\n",
    "            x3 = re.findall(r'doi:?\\s?(.+).?', ref)\n",
    "            \n",
    "            if x3:\n",
    "                search_item['p_doi'] = x3[0].strip(punctuation).strip()\n",
    "                \n",
    "            if x1:\n",
    "                search_item['p_authors'] = x1[0][0].strip(punctuation).strip()\n",
    "                search_item['p_title'] = x1[0][1].strip(punctuation).strip()\n",
    "                \n",
    "            elif x2:\n",
    "                search_item['p_authors'] = x2[0][0].strip(punctuation).strip()\n",
    "                search_item['p_title'] = x2[0][1].strip(punctuation).strip()\n",
    "\n",
    "            elif (ref.lower().startswith('who') or ref.lower().startswith('lci') \\\n",
    "                  or ref.lower().startswith('nvn') or ref.lower().startswith('nice')):\n",
    "                continue\n",
    "\n",
    "            try:\n",
    "                search_query = search_item['p_doi'] if search_item['p_doi'] else search_item['p_title'] \n",
    "                print('####search_query', search_query)\n",
    "                papers = searchArticle(search_query)\n",
    "                referenceFound = False\n",
    "\n",
    "                for paperIndex, paper in enumerate(papers['PubmedArticle']):\n",
    "                    paperTitle = paper['MedlineCitation']['Article']['ArticleTitle'].strip(punctuation).strip()\n",
    "                    if (Simhash(paperTitle).distance(Simhash(search_item['p_title'])) <= 5):\n",
    "                        doi = ''\n",
    "                        for idn, ids in enumerate(papers['PubmedArticle'][paperIndex]['PubmedData']['ArticleIdList']):\n",
    "                            if papers['PubmedArticle'][paperIndex]['PubmedData']['ArticleIdList'][idn].attributes['IdType'] == 'doi':\n",
    "                                doi = papers['PubmedArticle'][paperIndex]['PubmedData']['ArticleIdList'][idn]\n",
    "\n",
    "                        abstract = ''\n",
    "                        if 'Abstract' in paper['MedlineCitation']['Article']:\n",
    "                            abstract = ' '.join([str(x) for x in paper['MedlineCitation']['Article']['Abstract']['AbstractText']])\n",
    "\n",
    "                        data = [id_list[paperIndex], paperTitle, abstract, doi, 1]\n",
    "                        with open(csv_path, 'a') as csvfile:\n",
    "                            cw = csv.writer(csvfile, delimiter=',')\n",
    "                            cw.writerow(data)\n",
    "                        referenceFound = True \n",
    "                        break\n",
    "            except:\n",
    "                print('!!!! The reference could not be found automaticaly, please add it to the list manually', ref)"
   ]
  },
  {
   "cell_type": "code",
   "execution_count": 80,
   "id": "e19f5cee",
   "metadata": {},
   "outputs": [
    {
     "name": "stdout",
     "output_type": "stream",
     "text": [
      "\n",
      "\n",
      "\n",
      "\n",
      "####search_query NVK werkboek Infectieziekten bij kinderen\n",
      "!!!! The reference could not be found automaticaly, please add it to the list manually Van Furth AM et al. NVK werkboek Infectieziekten bij kinderen. 2008\n",
      "\n",
      "####search_query TDM gentamicine 8-7-2015\n",
      "!!!! The reference could not be found automaticaly, please add it to the list manually Coenradie S et al. TDM gentamicine 8-7-2015.\n",
      "\n",
      "\n",
      "####search_query Gentamicin pharmacokinetics and dosing in neonates with hypoxic ischemic  encephalopathy receiving hypothermia\n",
      "!!!! The reference could not be found automaticaly, please add it to the list manually Frymoyer A et al. Gentamicin pharmacokinetics and dosing in neonates with hypoxic ischemic  encephalopathy receiving hypothermia. Pharmacotherapy. 2013 Jul;33(7):718-26\n",
      "\n",
      "\n",
      "####search_query Werkboek kindernefrologie 2010\n",
      "!!!! The reference could not be found automaticaly, please add it to the list manually Kneepkens CMF et al. Werkboek kindernefrologie 2010.\n",
      "\n",
      "####search_query Drug prescribing in renal failure\n",
      "!!!! The reference could not be found automaticaly, please add it to the list manually Aronoff GR et al. Drug prescribing in renal failure. 5th edition.\n",
      "\n",
      "####search_query Population pharmacokinetic study of gentamicin in a large cohort of premature and term neonates\n",
      "!!!! The reference could not be found automaticaly, please add it to the list manually Fuchs A et al. Population pharmacokinetic study of gentamicin in a large cohort of premature and term neonates. Br J Clin Pharmacol. 2014 Nov;78(5):1090-101\n",
      "\n",
      "####search_query Developmental pharmacokinetics of gentamicin in preterm and term neonates: population modelling of a prospective study\n",
      "!!!! The reference could not be found automaticaly, please add it to the list manually Nielsen EI et al. Developmental pharmacokinetics of gentamicin in preterm and term neonates: population modelling of a prospective study. Clin Pharmacokinet. 2009;48(4):253-63\n",
      "\n",
      "####search_query Population pharmacokinetics and dosing of amoxicillin in (pre)term neonates\n",
      "!!!! The reference could not be found automaticaly, please add it to the list manually Pullen J et al. Population pharmacokinetics and dosing of amoxicillin in (pre)term neonates. Ther Drug Monit. 2006 Apr;28(2):226-31\n",
      "\n",
      "####search_query Gentamicin use in neonates: should we have a change of practice? Scott Med J\n",
      "!!!! The reference could not be found automaticaly, please add it to the list manually Krisnamoorthy SS et al. Gentamicin use in neonates: should we have a change of practice? Scott Med J. 2013 Nov;58(4):241-5\n",
      "\n",
      "####search_query Comparative evaluation of six extended-interval gentamicin dosing regimens in premature and full-term neonates\n",
      "!!!! The reference could not be found automaticaly, please add it to the list manually Fullas F et al. Comparative evaluation of six extended-interval gentamicin dosing regimens in premature and full-term neonates. Am J Health Syst Pharm. 2011 Jan 1;68(1):52-6\n",
      "\n",
      "####search_query Simplified dosing of gentamicin for treatment of sepsis in Bangladeshi neonates\n",
      "!!!! The reference could not be found automaticaly, please add it to the list manually Hossain MM et al. Simplified dosing of gentamicin for treatment of sepsis in Bangladeshi neonates. J Health Popul Nutr. 2009 Oct;27(5):640-5\n",
      "\n",
      "####search_query Population pharmacokinetics of gentamicin in premature newborns\n",
      "!!!! The reference could not be found automaticaly, please add it to the list manually García B et al. Population pharmacokinetics of gentamicin in premature newborns. J Antimicrob Chemother. 2006 Aug;58(2):372-9\n",
      "\n",
      "####search_query Extended interval dosing of gentamicin in preterm infants\n",
      "!!!! The reference could not be found automaticaly, please add it to the list manually Mercado MC et al. Extended interval dosing of gentamicin in preterm infants. Am J Perinatol. 2004 Feb;21(2):73-7\n",
      "\n",
      "####search_query Once-daily gentamicin dosing for the preterm and term newborn: proposal for a simple regimen that achieves target levels\n",
      "!!!! The reference could not be found automaticaly, please add it to the list manually Hansen A et al. Once-daily gentamicin dosing for the preterm and term newborn: proposal for a simple regimen that achieves target levels. J Perinatol. 2003 Dec;23(8):635-9\n",
      "\n",
      "####search_query Gentamicin Pharmacokinetics and Monitoring in Pediatric Patients with Febrile Neutropenia\n",
      "!!!! The reference could not be found automaticaly, please add it to the list manually Bialkowski S et al. Gentamicin Pharmacokinetics and Monitoring in Pediatric Patients with Febrile Neutropenia. Ther Drug Monit. 2016 Dec;38(6):693-698\n",
      "\n",
      "####search_query Once-daily gentamicin dosing in pediatric patients without cystic fibrosis\n",
      "!!!! The reference could not be found automaticaly, please add it to the list manually McDade EJ et al. Once-daily gentamicin dosing in pediatric patients without cystic fibrosis. Pharmacotherapy. 2010 Mar;30(3):248-53\n",
      "\n",
      "####search_query 10.1097/ftd.0000000000000341\n",
      "!!!! The reference could not be found automaticaly, please add it to the list manually Bialkowski, S., C. E. Staatz, J. Clark, R. Lawson, and S. Hennig. 2016. \"Gentamicin Pharmacokinetics and Monitoring in Pediatric Patients with Febrile Neutropenia.\"  Ther Drug Monit 38 (6):693-698. doi: 10.1097/ftd.0000000000000341.\n",
      "\n",
      "####search_query 10.1097/INF.0b013e3181ff023e\n",
      "!!!! The reference could not be found automaticaly, please add it to the list manually Choi, J. J., B. S. Moffett, E. J. McDade, and D. L. Palazzi. 2011. \"Altered gentamicin serum concentrations in obese pediatric patients.\"  Pediatr Infect Dis J 30 (4):347-9. doi: 10.1097/INF.0b013e3181ff023e.\n",
      "\n",
      "####search_query 10.1038/jp.2016.37\n",
      "!!!! The reference could not be found automaticaly, please add it to the list manually El-Chaar, G. M., T. Supaswud-Franks, L. Venugopalan, N. Kohn, and S. Castro-Alcaraz. 2016. \"Extended-interval gentamicin administration in neonates: a simplified approach.\"  J Perinatol 36 (8):660-5. doi: 10.1038/jp.2016.37.\n",
      "\n",
      "####search_query 10.1128/aac.00205-17\n",
      "!!!! The reference could not be found automaticaly, please add it to the list manually Llanos-Paez, C. C., C. E. Staatz, R. Lawson, and S. Hennig. 2017. \"A Population Pharmacokinetic Model of Gentamicin in Pediatric Oncology Patients To Facilitate Personalized Dosing.\"  Antimicrob Agents Chemother 61 (8). doi: 10.1128/aac.00205-17.\n",
      "\n",
      "####search_query 10.1208/s12248-017-0173-6\n",
      "!!!! The reference could not be found automaticaly, please add it to the list manually Llanos-Paez, C. C., C. Staatz, and S. Hennig. 2017. \"Balancing Antibacterial Efficacy and Reduction in Renal Function to Optimise Initial Gentamicin Dosing in Paediatric Oncology Patients.\"  Aaps j 20 (1):14. doi: 10.1208/s12248-017-0173-6.\n",
      "\n",
      "####search_query 10.1097/ftd.0000000000000505\n",
      "!!!! The reference could not be found automaticaly, please add it to the list manually Moffett, B. S., C. Kam, M. Galati, L. Schmees, G. A. Stitt, P. A. Revell, and D. L. Palazzi. 2018. \"The \"Ideal\" Body Weight for Pediatric Gentamicin Dosing in the Era of Obesity: A Population Pharmacokinetic Analysis.\"  Ther Drug Monit 40 (3):322-329. doi: 10.1097/ftd.0000000000000505.\n",
      "\n",
      "####search_query 10.1097/ftd.0000000000000547\n",
      "!!!! The reference could not be found automaticaly, please add it to the list manually Moffett, B. S., J. Morris, M. Galati, F. M. Munoz, and A. A. Arikan. 2018. \"Population Pharmacokinetic Analysis of Gentamicin in Pediatric Extracorporeal Membrane Oxygenation.\"  Ther Drug Monit 40 (5):581-588. doi: 10.1097/ftd.0000000000000547.\n",
      "\n",
      "####search_query 10.1016/j.clinthera.2017.05.343\n",
      "!!!! The reference could not be found automaticaly, please add it to the list manually Sundaram, A., B. Alshaikh, D. Dersch-Mills, J. Dobry, A. R. Akierman, and K. Yusuf. 2017. \"Extended-interval Dosing of Gentamicin in Premature Neonates Born at <32 Weeks' Gestation and >7 Days of age.\"  Clin Ther 39 (6):1233-1241. doi: 10.1016/j.clinthera.2017.05.343.\n",
      "\n",
      "####search_query 10.1128/aac.02004-17\n",
      "!!!! The reference could not be found automaticaly, please add it to the list manually van Donge, T., M. Pfister, J. Bielicki, C. Csajka, F. Rodieux, J. van den Anker, and A. Fuchs. 2018. \"Quantitative Analysis of Gentamicin Exposure in Neonates and Infants Calls into Question Its Current Dosing Recommendations.\"  Antimicrob Agents Chemother 62 (4). doi: 10.1128/aac.02004-17.\n",
      "\n",
      "####search_query 10.1097/ftd.0000000000000283\n"
     ]
    },
    {
     "name": "stdout",
     "output_type": "stream",
     "text": [
      "!!!! The reference could not be found automaticaly, please add it to the list manually van Maarseveen, E. M., A. Sprij, and D. J. Touw. 2016. \"Extended-Interval Dosing of Gentamicin Aiming for a Drug-Free Period in Neonates: A Prospective Cohort Study.\"  Ther Drug Monit 38 (3):402-6. doi: 10.1097/ftd.0000000000000283.\n"
     ]
    }
   ],
   "source": [
    "writeFromEndnoteToCsv(referenceList)"
   ]
  },
  {
   "cell_type": "code",
   "execution_count": null,
   "id": "7630e95f",
   "metadata": {},
   "outputs": [],
   "source": []
  },
  {
   "cell_type": "code",
   "execution_count": null,
   "id": "936293a2",
   "metadata": {},
   "outputs": [],
   "source": []
  },
  {
   "cell_type": "code",
   "execution_count": null,
   "id": "b91658c3",
   "metadata": {},
   "outputs": [],
   "source": []
  },
  {
   "cell_type": "code",
   "execution_count": null,
   "id": "5a42f418",
   "metadata": {},
   "outputs": [],
   "source": [
    "referencesFromTables = collectFromTables()"
   ]
  },
  {
   "cell_type": "code",
   "execution_count": 66,
   "id": "5edbd3b5",
   "metadata": {},
   "outputs": [],
   "source": [
    "def writeFromTablesToCsv():\n",
    "    header = ['record_id', 'title', 'abstract', 'doi', 'final_included']\n",
    "    with open(csv_path, 'w', newline='') as csvfile:\n",
    "        cw = csv.writer(csvfile, delimiter=',')\n",
    "        cw.writerow(header)\n",
    "\n",
    "    #Loop over the reference list in the docx file\n",
    "    for ref in referencesFromTables:\n",
    "        ref = ref['title'].strip()\n",
    "\n",
    "        if (ref.lower().startswith('reference') or ref.lower().startswith('referen')):\n",
    "            print('There might be some problem with the reference below. \\\n",
    "                Please check and add the reference if it is not on the list',ref)\n",
    "            continue\n",
    "        elif (ref.strip() == ''):\n",
    "            print('There might be some problem with the reference below. \\\n",
    "                Please check and add the reference if it is not on the list',ref)\n",
    "            continue\n",
    "        else:\n",
    "            try:\n",
    "                papers = searchArticle(ref)\n",
    "                referenceFound = False\n",
    "\n",
    "                for paperIndex, paper in enumerate(papers['PubmedArticle']):\n",
    "                    paperTitle = paper['MedlineCitation']['Article']['ArticleTitle'].strip(punctuation).strip()\n",
    "                    if (paperTitle == textTitle.strip(punctuation).strip()):\n",
    "                        doi = ''\n",
    "                        for idn, ids in enumerate(papers['PubmedArticle'][paperIndex]['PubmedData']['ArticleIdList']):\n",
    "                            if papers['PubmedArticle'][paperIndex]['PubmedData']['ArticleIdList'][idn].attributes['IdType'] == 'doi':\n",
    "                                doi = papers['PubmedArticle'][paperIndex]['PubmedData']['ArticleIdList'][idn]\n",
    "\n",
    "                        abstract = ''\n",
    "                        if 'Abstract' in paper['MedlineCitation']['Article']:\n",
    "                            abstract = ' '.join([str(x) for x in paper['MedlineCitation']['Article']['Abstract']['AbstractText']])\n",
    "\n",
    "                        data = [id_list[paperIndex], paperTitle, abstract, doi, 1]\n",
    "                        with open(csv_path, 'a') as csvfile:\n",
    "                            cw = csv.writer(csvfile, delimiter=',')\n",
    "                            cw.writerow(data)\n",
    "                        referenceFound = True \n",
    "                        break\n",
    "\n",
    "            except:\n",
    "                print('!!!! The reference could not be found automaticaly, please add it to the list manually')\n",
    "                print(ref)"
   ]
  }
 ],
 "metadata": {
  "kernelspec": {
   "display_name": "Python 3 (ipykernel)",
   "language": "python",
   "name": "python3"
  },
  "language_info": {
   "codemirror_mode": {
    "name": "ipython",
    "version": 3
   },
   "file_extension": ".py",
   "mimetype": "text/x-python",
   "name": "python",
   "nbconvert_exporter": "python",
   "pygments_lexer": "ipython3",
   "version": "3.8.10"
  }
 },
 "nbformat": 4,
 "nbformat_minor": 5
}
