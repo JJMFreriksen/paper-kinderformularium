{
 "cells": [
  {
   "cell_type": "code",
   "execution_count": 2,
   "id": "06d98c56",
   "metadata": {},
   "outputs": [],
   "source": [
    "from Bio import Entrez"
   ]
  },
  {
   "cell_type": "code",
   "execution_count": 3,
   "id": "3ef02ce3",
   "metadata": {},
   "outputs": [],
   "source": [
    "email='simgeekiz48@gmail.com'"
   ]
  },
  {
   "cell_type": "code",
   "execution_count": 4,
   "id": "60202dbb",
   "metadata": {},
   "outputs": [],
   "source": [
    "def search(query):\n",
    "    Entrez.email = email\n",
    "    handle = Entrez.esearch(db='pubmed', \n",
    "                            sort='relevance', \n",
    "                            retmax='20',\n",
    "                            retmode='xml', \n",
    "                            term=query)\n",
    "    results = Entrez.read(handle)\n",
    "    return results\n",
    "\n",
    "def fetch_details(id_list):\n",
    "    ids = ','.join(id_list)\n",
    "    Entrez.email = email\n",
    "    handle = Entrez.efetch(db='pubmed',\n",
    "                           retmode='xml',\n",
    "                           id=ids)\n",
    "    results = Entrez.read(handle)\n",
    "    return results\n"
   ]
  },
  {
   "cell_type": "code",
   "execution_count": 5,
   "id": "f74d3a3d",
   "metadata": {},
   "outputs": [],
   "source": [
    "search_query = '10.1007/s11095-017-2122-6'\n",
    "results = search(search_query)"
   ]
  },
  {
   "cell_type": "code",
   "execution_count": 6,
   "id": "56dfebfd",
   "metadata": {},
   "outputs": [],
   "source": [
    "id_list = results['IdList']\n",
    "papers = fetch_details(id_list)"
   ]
  },
  {
   "cell_type": "code",
   "execution_count": 7,
   "id": "83daa9c3",
   "metadata": {},
   "outputs": [
    {
     "data": {
      "text/plain": [
       "['28205004']"
      ]
     },
     "execution_count": 7,
     "metadata": {},
     "output_type": "execute_result"
    }
   ],
   "source": [
    "id_list\n"
   ]
  },
  {
   "cell_type": "code",
   "execution_count": 23,
   "id": "506869a4",
   "metadata": {},
   "outputs": [
    {
     "name": "stdout",
     "output_type": "stream",
     "text": [
      "The aim of the current population pharmacokinetic study was to quantify oxycodone pharmacokinetics in children ranging from preterm neonates to children up to 7 years of age. Data on intravenous or intramuscular oxycodone administration were obtained from three previously published studies (n = 119). The median [range] postmenstrual age of the subjects was 299 days [170 days-7.8 years]. A population pharmacokinetic model was built using 781 measurements of oxycodone plasma concentration. The model was used to simulate repeated intravenous oxycodone administration in four representative infants covering the age range from an extremely preterm neonate to 1-year old infant. The rapid maturation of oxycodone clearance was best described with combined allometric scaling and maturation function. Central and peripheral volumes of distribution were nonlinearly related to bodyweight. The simulations on repeated intravenous administration in virtual patients indicated that oxycodone plasma concentration can be kept between 10 and 50 ng/ml with a high probability when the maintenance dose is calculated using the typical clearance and the dose interval is 4 h. Oxycodone clearance matures rapidly after birth, and between-subject variability is pronounced in neonates. The pharmacokinetic model developed may be used to evaluate different multiple dosing regimens, but the safety of repeated doses should be ensured.\n",
      "\n",
      "Data on intravenous or intramuscular oxycodone administration were obtained from three previously published studies (n = 119). The median [range] postmenstrual age of the subjects was 299 days [170 days-7.8 years]. A population pharmacokinetic model was built using 781 measurements of oxycodone plasma concentration. The model was used to simulate repeated intravenous oxycodone administration in four representative infants covering the age range from an extremely preterm neonate to 1-year old infant.\n"
     ]
    }
   ],
   "source": [
    "for i, paper in enumerate(papers['PubmedArticle']):\n",
    "#     print(paper['MedlineCitation']['Article'].keys())\n",
    "\n",
    "    print(abstract)\n",
    "    print()\n",
    "    print (paper['MedlineCitation']['Article']['Abstract']['AbstractText'][1])"
   ]
  },
  {
   "cell_type": "code",
   "execution_count": null,
   "id": "bfaaa951",
   "metadata": {},
   "outputs": [],
   "source": [
    "The aim of the current population pharmacokinetic study was to quantify oxycodone pharmacokinetics in children ranging from preterm neonates to children up to 7 years of age. Data on intravenous or intramuscular oxycodone administration were obtained from three previously published studies (n = 119). The median [range] postmenstrual age of the subjects was 299 days [170 days-7.8 years]. A population pharmacokinetic model was built using 781 measurements of oxycodone plasma concentration. The model was used to simulate repeated intravenous oxycodone administration in four representative infants covering the age range from an extremely preterm neonate to 1-year old infant. The rapid maturation of oxycodone clearance was best described with combined allometric scaling and maturation function. Central and peripheral volumes of distribution were nonlinearly related to bodyweight. The simulations on repeated intravenous administration in virtual patients indicated that oxycodone plasma concentration can be kept between 10 and 50 ng/ml with a high probability when the maintenance dose is calculated using the typical clearance and the dose interval is 4 h. Oxycodone clearance matures rapidly after birth, and between-subject variability is pronounced in neonates. The pharmacokinetic model developed may be used to evaluate different multiple dosing regimens, but the safety of repeated doses should be ensured."
   ]
  },
  {
   "cell_type": "markdown",
   "id": "06d8f5f4",
   "metadata": {},
   "source": [
    "Taken from: https://gist.github.com/blevitt/3d2b8117b1138b140097ce8c698ce9d5"
   ]
  },
  {
   "cell_type": "code",
   "execution_count": null,
   "id": "2c1596d5",
   "metadata": {},
   "outputs": [],
   "source": [
    "#!/usr/bin/env python\n",
    "# numpy and biopython are required -- pip install numpy biopython\n",
    "\n",
    "from Bio import Entrez\n",
    "from Bio import Medline\n"
   ]
  },
  {
   "cell_type": "code",
   "execution_count": null,
   "id": "19b9334b",
   "metadata": {},
   "outputs": [],
   "source": [
    "\n",
    "MAX_COUNT = 10\n",
    "TERM = 'Tuberculosis'\n",
    "\n",
    "print('Getting {0} publications containing {1}...'.format(MAX_COUNT, TERM))\n",
    "Entrez.email = 'A.N.Other@example.com'\n",
    "h = Entrez.esearch(db='pubmed', retmax=MAX_COUNT, term=TERM)\n",
    "result = Entrez.read(h)\n",
    "print('Total number of publications containing {0}: {1}'.format(TERM, result['Count']))\n",
    "ids = result['IdList']\n",
    "h = Entrez.efetch(db='pubmed', id=ids, rettype='medline', retmode='text')\n",
    "records = Medline.parse(h)\n",
    "\n",
    "authors = []\n",
    "for record in records:\n",
    "    au = record.get('AU', '?')\n",
    "    for a in au: \n",
    "        if a not in authors:\n",
    "            authors.append(a)\n",
    "    authors.sort()\n",
    "print('Authors: {0}'.format(', '.join(authors)))"
   ]
  },
  {
   "cell_type": "code",
   "execution_count": null,
   "id": "7ebb1938",
   "metadata": {},
   "outputs": [],
   "source": []
  }
 ],
 "metadata": {
  "kernelspec": {
   "display_name": "Python 3 (ipykernel)",
   "language": "python",
   "name": "python3"
  },
  "language_info": {
   "codemirror_mode": {
    "name": "ipython",
    "version": 3
   },
   "file_extension": ".py",
   "mimetype": "text/x-python",
   "name": "python",
   "nbconvert_exporter": "python",
   "pygments_lexer": "ipython3",
   "version": "3.8.10"
  }
 },
 "nbformat": 4,
 "nbformat_minor": 5
}
