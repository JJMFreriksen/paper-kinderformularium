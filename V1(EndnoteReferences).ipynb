{
 "cells": [
  {
   "cell_type": "code",
   "execution_count": 1,
   "id": "65607a89",
   "metadata": {},
   "outputs": [],
   "source": [
    "%load_ext autoreload\n",
    "%autoreload 2\n",
    "%reload_ext autoreload"
   ]
  },
  {
   "cell_type": "code",
   "execution_count": 2,
   "id": "f41bd517",
   "metadata": {},
   "outputs": [],
   "source": [
    "import docx\n",
    "from string import punctuation\n",
    "import re\n",
    "import csv \n",
    "import os\n",
    "from simhash import Simhash, SimhashIndex"
   ]
  },
  {
   "cell_type": "code",
   "execution_count": 3,
   "id": "fe3c56e6",
   "metadata": {},
   "outputs": [],
   "source": [
    "from src.utils import search_API, fetch_details, create_csv_path, collectFromEndnote\n",
    "# , writeFromEndnoteTOCsv"
   ]
  },
  {
   "cell_type": "code",
   "execution_count": 4,
   "id": "707174f2",
   "metadata": {},
   "outputs": [],
   "source": [
    "rba_path = 'data/1. Risk-benefit analysis Kinderformularium Oxycodone.docx'"
   ]
  },
  {
   "cell_type": "code",
   "execution_count": 5,
   "id": "20963f62",
   "metadata": {},
   "outputs": [],
   "source": [
    "csv_path = create_csv_path(rba_path)"
   ]
  },
  {
   "cell_type": "code",
   "execution_count": 6,
   "id": "e8b19f49",
   "metadata": {},
   "outputs": [],
   "source": [
    "referenceList = collectFromEndnote(rba_path)"
   ]
  },
  {
   "cell_type": "code",
   "execution_count": 7,
   "id": "96cb3c40",
   "metadata": {},
   "outputs": [],
   "source": [
    "def writeFromEndnoteTOCsv(referenceList, csv_path):\n",
    "    header = ['record_id', 'title', 'abstract', 'doi', 'final_included']\n",
    "    with open(csv_path, 'w', newline='') as csvfile:\n",
    "        cw = csv.writer(csvfile, delimiter=',')\n",
    "        cw.writerow(header)\n",
    "\n",
    "    #Loop over the reference list in the docx file\n",
    "    for ref in referenceList:\n",
    "        search_query = ref['p_doi'] if ref['p_doi'] else ref['p_title'] \n",
    "    #     print('#search_query', search_query)\n",
    "        try:\n",
    "            PubmedSearchResults = search_API(search_query)\n",
    "            id_list = PubmedSearchResults['IdList']\n",
    "            #todo If id_list is empty find a ways to reproduce it\n",
    "            papers = fetch_details(id_list)\n",
    "            referenceFound = False\n",
    "\n",
    "            for paperIndex, paper in enumerate(papers['PubmedArticle']):\n",
    "                paperTitle = paper['MedlineCitation']['Article']['ArticleTitle'].strip(punctuation).strip()\n",
    "                if (Simhash(paperTitle).distance(Simhash(ref['p_title'])) <= 5):\n",
    "                    # Todo Add Author confirmation as well\n",
    "                    doi = ''\n",
    "                    for idn, ids in enumerate(papers['PubmedArticle'][paperIndex]['PubmedData']['ArticleIdList']):\n",
    "                        if papers['PubmedArticle'][paperIndex]['PubmedData']['ArticleIdList'][idn].attributes['IdType'] == 'doi':\n",
    "                            doi = papers['PubmedArticle'][paperIndex]['PubmedData']['ArticleIdList'][idn]\n",
    "\n",
    "                    abstract = ''\n",
    "                    if 'Abstract' in paper['MedlineCitation']['Article']:\n",
    "                        abstract = ' '.join([str(x) for x in paper['MedlineCitation']['Article']['Abstract']['AbstractText']])\n",
    "\n",
    "                    data = [id_list[paperIndex], paperTitle, abstract, doi, 1]\n",
    "                    with open(csv_path, 'a') as csvfile:\n",
    "                        cw = csv.writer(csvfile, delimiter=',')\n",
    "                        cw.writerow(data)\n",
    "                    referenceFound = True \n",
    "                    break\n",
    "            if not referenceFound:\n",
    "                if (len(search_query.split(' ')) < 8):\n",
    "                    search_query = search_query + ' ' + ref['p_authors'].split(' ')[0]\n",
    "#                     print(search_query)\n",
    "    #                 elif (len(search_query.split(' ')) >= 8):\n",
    "    #                 If it is longer divide it half first then remove 1 by 1\n",
    "\n",
    "\n",
    "        except:\n",
    "            print('!!!! The reference could not be found automaticaly: ', ref['p_title'])\n"
   ]
  },
  {
   "cell_type": "code",
   "execution_count": 8,
   "id": "23524d12",
   "metadata": {},
   "outputs": [],
   "source": [
    "writeFromEndnoteTOCsv(referenceList, csv_path)"
   ]
  },
  {
   "cell_type": "code",
   "execution_count": null,
   "id": "a3485cac",
   "metadata": {},
   "outputs": [],
   "source": []
  }
 ],
 "metadata": {
  "kernelspec": {
   "display_name": "Python 3 (ipykernel)",
   "language": "python",
   "name": "python3"
  },
  "language_info": {
   "codemirror_mode": {
    "name": "ipython",
    "version": 3
   },
   "file_extension": ".py",
   "mimetype": "text/x-python",
   "name": "python",
   "nbconvert_exporter": "python",
   "pygments_lexer": "ipython3",
   "version": "3.8.10"
  }
 },
 "nbformat": 4,
 "nbformat_minor": 5
}
