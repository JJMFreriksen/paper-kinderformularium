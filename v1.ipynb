{
 "cells": [
  {
   "cell_type": "code",
   "execution_count": 1,
   "id": "533cb82e",
   "metadata": {},
   "outputs": [
    {
     "name": "stdout",
     "output_type": "stream",
     "text": [
      "Requirement already satisfied: python-docx in ./.env/lib/python3.8/site-packages (0.8.11)\r\n",
      "Requirement already satisfied: lxml>=2.3.2 in ./.env/lib/python3.8/site-packages (from python-docx) (4.6.4)\r\n"
     ]
    }
   ],
   "source": [
    "!pip install python-docx"
   ]
  },
  {
   "cell_type": "code",
   "execution_count": 80,
   "id": "f41bd517",
   "metadata": {},
   "outputs": [],
   "source": [
    "import docx\n",
    "from string import punctuation\n",
    "import re\n",
    "import csv  "
   ]
  },
  {
   "cell_type": "code",
   "execution_count": 81,
   "id": "707174f2",
   "metadata": {},
   "outputs": [],
   "source": [
    "from Bio import Entrez\n",
    "email='simgeekiz48@gmail.com'\n",
    "from Bio.Entrez import efetch, read"
   ]
  },
  {
   "cell_type": "code",
   "execution_count": 82,
   "id": "b45ee6bd",
   "metadata": {},
   "outputs": [],
   "source": [
    "rba_path = 'data/1. Risk-benefit analysis Kinderformularium Oxycodone.docx'"
   ]
  },
  {
   "cell_type": "code",
   "execution_count": 83,
   "id": "7a40eb2e",
   "metadata": {},
   "outputs": [],
   "source": [
    "csv_path = rba_path.replace('.docx', '.csv')\n"
   ]
  },
  {
   "cell_type": "code",
   "execution_count": 85,
   "id": "9ae19a40",
   "metadata": {},
   "outputs": [],
   "source": [
    "def search(query):\n",
    "    Entrez.email = email\n",
    "    handle = Entrez.esearch(db='pubmed', \n",
    "                            sort='relevance', \n",
    "                            retmax='20',\n",
    "                            retmode='xml', \n",
    "                            term=query)\n",
    "    results = Entrez.read(handle)\n",
    "    return results\n",
    "\n",
    "def fetch_details(id_list):\n",
    "    ids = ','.join(id_list)\n",
    "    Entrez.email = email\n",
    "    handle = Entrez.efetch(db='pubmed',\n",
    "                           retmode='xml',\n",
    "                           id=ids)\n",
    "    results = Entrez.read(handle)\n",
    "    return results\n"
   ]
  },
  {
   "cell_type": "code",
   "execution_count": 86,
   "id": "25e7c170",
   "metadata": {},
   "outputs": [],
   "source": [
    "# import the Document class \n",
    "# from the docx module\n",
    "from docx import Document\n",
    "  \n",
    "# create an instance of a \n",
    "# word document we want to open\n",
    "doc = Document(rba_path)"
   ]
  },
  {
   "cell_type": "code",
   "execution_count": 87,
   "id": "3d97c0cc",
   "metadata": {},
   "outputs": [],
   "source": [
    "findBegin = False\n",
    "referenceList = []\n",
    "\n",
    "for i in range(0, len(doc.paragraphs)):\n",
    "    if (doc.paragraphs[i].text.lower().startswith('references')):\n",
    "        findBegin = True\n",
    "    if (findBegin == True):\n",
    "        referenceList.append(doc.paragraphs[i].text)"
   ]
  },
  {
   "cell_type": "code",
   "execution_count": 88,
   "id": "2d53ac6e",
   "metadata": {},
   "outputs": [],
   "source": [
    "header = ['record_id', 'title', 'abstract', 'doi', 'final_included']\n",
    "with open(csv_path, 'w', newline='') as csvfile:\n",
    "    cw = csv.writer(csvfile, delimiter=',') #quotechar='|', quoting=csv.QUOTE_MINIMAL\n",
    "    cw.writerow(header)"
   ]
  },
  {
   "cell_type": "code",
   "execution_count": 89,
   "id": "6951b226",
   "metadata": {
    "scrolled": false
   },
   "outputs": [
    {
     "name": "stdout",
     "output_type": "stream",
     "text": [
      "Analgesics for the treatment of pain in children\n",
      "10.1056/NEJMra012626\n",
      "has no abstract:  12362012\n",
      "Oxycodone versus codeine for triage pain in children with suspected forearm fracture: a randomized controlled trial\n",
      "10.1097/PEC.0b013e3181850ca3\n",
      "Controlled-release oxycodone for the management of pediatric postoperative pain\n",
      "10.1016/j.jpainsymman.2003.08.007\n",
      "Population pharmacokinetics of oxycodone in children 6 months to 7 years old\n",
      "10.1177/0091270006286433\n",
      "The management of pain in children with life-limiting illnesses\n",
      "10.1016/j.pcl.2007.07.007\n",
      "Comparison of oxycodone pharmacokinetics after buccal and sublingual administration in children\n",
      "10.2165/00003088-200645070-00009\n",
      "Pharmacokinetics of oxycodone after intravenous, buccal, intramuscular and gastric administration in children\n",
      "10.2165/00003088-200443090-00004\n",
      "Maturation of oxycodone pharmacokinetics in neonates and infants: Oxycodone and its metabolites in plasma and urine\n",
      "10.1111/bcp.13164\n",
      "Effectiveness of oxycodone, ibuprofen, or the combination in the initial management of orthopedic injury-related pain in children\n",
      "10.1097/PEC.0b013e31814a6a39\n",
      "Pharmacokinetics and ventilatory effects of intravenous oxycodone in postoperative children\n",
      "10.1111/j.1365-2125.1994.tb04324.x\n",
      "Marked variation in oxycodone pharmacokinetics in infants\n",
      "10.1111/j.1460-9592.2005.01571.x\n",
      "Development of recommendations for dosing of commonly prescribed medications in critically ill obese children\n",
      "10.2146/ajhp140280\n",
      "A comparison of oral transmucosal fentanyl citrate and oral oxycodone for pediatric outpatient wound care\n",
      "10.1097/00004630-200201000-00006\n",
      "Maturation of Oxycodone Pharmacokinetics in Neonates and Infants: a Population Pharmacokinetic Model of Three Clinical Trials\n",
      "10.1007/s11095-017-2122-6\n",
      "Pediatric palliative care: use of opioids for the management of pain\n",
      "10.2165/00148581-200911020-00004\n",
      "Physiologically Based Pharmacokinetic Modeling of Oxycodone in Children to Support Pediatric Dosing Optimization\n",
      "10.1007/s11095-019-2708-2\n"
     ]
    }
   ],
   "source": [
    "#Loop over the reference list in the docx file\n",
    "for ref in referenceList:\n",
    "    ref = ref.strip()\n",
    "    if (ref.lower().startswith('reference')):\n",
    "        continue\n",
    "    elif (ref.strip() == ''):\n",
    "        continue\n",
    "    else:\n",
    "        # Find the possible title\n",
    "        titleIndices = [match.start() for match in re.finditer('\"', ref)]\n",
    "        textTitle  = ref[titleIndices[0]:titleIndices[1]].strip(punctuation).strip()\n",
    "        print(textTitle)\n",
    "        # Find the DOI\n",
    "#         quer = ref.find('doi')\n",
    "#         pre_search_query = ref[quer:]\n",
    "#         search_query = pre_search_query.replace('doi:', '').strip(punctuation).strip()\n",
    "        quer = re.findall(r'doi:?\\s?(.+).?', ref)\n",
    "        if len(quer) >= 2:\n",
    "            print('Please check this: ', textTitle)\n",
    "        else: \n",
    "            quer=quer[0]\n",
    "        search_query = quer.strip(punctuation).strip()\n",
    "        print(search_query)\n",
    "        \n",
    "        # Search the article in the Pubmed Database\n",
    "        PubmedSearchResults = search(search_query)\n",
    "        id_list = PubmedSearchResults['IdList']\n",
    "        \n",
    "        #Return the research result\n",
    "        papers = fetch_details(id_list)\n",
    "        for paperIndex, paper in enumerate(papers['PubmedArticle']):\n",
    "            paperTitle = paper['MedlineCitation']['Article']['ArticleTitle'].strip(punctuation).strip()\n",
    "            if 'Abstract' in paper['MedlineCitation']['Article']:\n",
    "                abstract = ' '.join([str(x) for x in paper['MedlineCitation']['Article']['Abstract']['AbstractText']])\n",
    "            else:\n",
    "                abstract = ''\n",
    "                print('has no abstract: ', id_list[paperIndex])\n",
    "            if (paperTitle == textTitle):\n",
    "#                 print('item found', paperTitle)\n",
    "                doi = search_query\n",
    "                data = [id_list[paperIndex], paperTitle, abstract, doi, 1]\n",
    "                with open(csv_path, 'a') as csvfile:\n",
    "                    cw = csv.writer(csvfile, delimiter=',')\n",
    "                    cw.writerow(data)\n",
    "            else:\n",
    "                print('Something went wrong with this item: ', paperTitle )"
   ]
  },
  {
   "cell_type": "code",
   "execution_count": null,
   "id": "68d1a2d1",
   "metadata": {},
   "outputs": [],
   "source": []
  },
  {
   "cell_type": "markdown",
   "id": "0546204f",
   "metadata": {},
   "source": [
    "### Alternatives"
   ]
  },
  {
   "cell_type": "markdown",
   "id": "49fffa2b",
   "metadata": {},
   "source": [
    "https://www.codegrepper.com/code-examples/python/how+to+read+docx+file+in+python\n",
    "import docx2txt\n",
    "my_text = docx2txt.process(\"test.docx\")\n",
    "print(my_text)"
   ]
  },
  {
   "cell_type": "markdown",
   "id": "b3f626f4",
   "metadata": {},
   "source": [
    "with open(rba_path, 'r', encoding='utf8') as f:\n",
    "    lines = f.readlines()"
   ]
  },
  {
   "cell_type": "code",
   "execution_count": null,
   "id": "2aab7fe2",
   "metadata": {},
   "outputs": [],
   "source": []
  }
 ],
 "metadata": {
  "kernelspec": {
   "display_name": "Python 3 (ipykernel)",
   "language": "python",
   "name": "python3"
  },
  "language_info": {
   "codemirror_mode": {
    "name": "ipython",
    "version": 3
   },
   "file_extension": ".py",
   "mimetype": "text/x-python",
   "name": "python",
   "nbconvert_exporter": "python",
   "pygments_lexer": "ipython3",
   "version": "3.8.10"
  }
 },
 "nbformat": 4,
 "nbformat_minor": 5
}
