{
 "cells": [
  {
   "cell_type": "code",
   "execution_count": 1,
   "id": "868b2c22",
   "metadata": {},
   "outputs": [],
   "source": [
    "%load_ext autoreload\n",
    "%autoreload 2\n",
    "%reload_ext autoreload"
   ]
  },
  {
   "cell_type": "markdown",
   "id": "27779af5",
   "metadata": {},
   "source": [
    "#### Import the necessary functions from the scripts"
   ]
  },
  {
   "cell_type": "code",
   "execution_count": 2,
   "id": "feb4008a",
   "metadata": {},
   "outputs": [],
   "source": [
    "import os"
   ]
  },
  {
   "cell_type": "code",
   "execution_count": 4,
   "id": "1ab89fda",
   "metadata": {},
   "outputs": [],
   "source": [
    "from utils import create_csv_path, collectFromEndnote, collectFromTables, pubmed2csv"
   ]
  },
  {
   "cell_type": "markdown",
   "id": "b247e4df",
   "metadata": {},
   "source": [
    "#### Give the path of the targeted Risk Benefit Analysis (RBA) document"
   ]
  },
  {
   "cell_type": "code",
   "execution_count": 12,
   "id": "fbaa2b11",
   "metadata": {},
   "outputs": [],
   "source": [
    "rba_path = os.path.abspath('../data/ferrofumaraat.docx')"
   ]
  },
  {
   "cell_type": "markdown",
   "id": "3d0b49f5",
   "metadata": {},
   "source": [
    "#### Create the path to the output CSV file"
   ]
  },
  {
   "cell_type": "code",
   "execution_count": 13,
   "id": "828cf5fa",
   "metadata": {},
   "outputs": [],
   "source": [
    "csv_path = create_csv_path(rba_path)"
   ]
  },
  {
   "cell_type": "markdown",
   "id": "1654b905",
   "metadata": {},
   "source": [
    "#### Collect the Table references from the RBA file"
   ]
  },
  {
   "cell_type": "code",
   "execution_count": 14,
   "id": "24492067",
   "metadata": {},
   "outputs": [],
   "source": [
    "references_list_tables = collectFromTables(rba_path)"
   ]
  },
  {
   "cell_type": "code",
   "execution_count": 15,
   "id": "12ff8808",
   "metadata": {},
   "outputs": [
    {
     "data": {
      "text/plain": [
       "34"
      ]
     },
     "execution_count": 15,
     "metadata": {},
     "output_type": "execute_result"
    }
   ],
   "source": [
    "len(references_list_tables)"
   ]
  },
  {
   "cell_type": "markdown",
   "id": "48e3919c",
   "metadata": {},
   "source": [
    "#### Write the extracted references to the output file"
   ]
  },
  {
   "cell_type": "code",
   "execution_count": null,
   "id": "5ce85d4a",
   "metadata": {},
   "outputs": [
    {
     "name": "stdout",
     "output_type": "stream",
     "text": [
      "!!!! The reference could not be found automaticaly:  Rationale of iron dosage and formulations in under three children.\n",
      "!!!!!!!!!!!!!!! The reference could not be found automaticaly:  Guidelines for the use of iron supplements to prevent and treat iron deficiency anemia.\n"
     ]
    }
   ],
   "source": [
    "pubmed2csv(references_list_tables, csv_path)"
   ]
  }
 ],
 "metadata": {
  "kernelspec": {
   "display_name": "Python 3 (ipykernel)",
   "language": "python",
   "name": "python3"
  },
  "language_info": {
   "codemirror_mode": {
    "name": "ipython",
    "version": 3
   },
   "file_extension": ".py",
   "mimetype": "text/x-python",
   "name": "python",
   "nbconvert_exporter": "python",
   "pygments_lexer": "ipython3",
   "version": "3.8.9"
  }
 },
 "nbformat": 4,
 "nbformat_minor": 5
}
