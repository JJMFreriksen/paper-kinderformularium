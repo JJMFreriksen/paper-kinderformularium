{
 "cells": [
  {
   "cell_type": "code",
   "execution_count": 1,
   "id": "868b2c22",
   "metadata": {},
   "outputs": [],
   "source": [
    "%load_ext autoreload\n",
    "%autoreload 2\n",
    "%reload_ext autoreload"
   ]
  },
  {
   "cell_type": "markdown",
   "id": "793b217b",
   "metadata": {},
   "source": [
    "#### Import the necessary functions from the scripts"
   ]
  },
  {
   "cell_type": "code",
   "execution_count": 2,
   "id": "feb4008a",
   "metadata": {},
   "outputs": [],
   "source": [
    "import os"
   ]
  },
  {
   "cell_type": "code",
   "execution_count": 3,
   "id": "1ab89fda",
   "metadata": {},
   "outputs": [],
   "source": [
    "from utils import create_csv_path, collectFromEndnote, collectFromTables, pubmed2csv"
   ]
  },
  {
   "cell_type": "code",
   "execution_count": 4,
   "id": "3ccdd5a9",
   "metadata": {},
   "outputs": [],
   "source": [
    "email = 'simgeekiz48@gmail.com'"
   ]
  },
  {
   "cell_type": "markdown",
   "id": "b247e4df",
   "metadata": {},
   "source": [
    "#### Give the path of the targeted Risk Benefit Analysis (RBA) document"
   ]
  },
  {
   "cell_type": "code",
   "execution_count": 5,
   "id": "fbaa2b11",
   "metadata": {},
   "outputs": [],
   "source": [
    "rba_path = os.path.abspath('../data/1. Risicoanalyse kinderformularium gentamicine nieuw.docx')"
   ]
  },
  {
   "cell_type": "markdown",
   "id": "7a233636",
   "metadata": {},
   "source": [
    "#### Create the path to the output CSV file"
   ]
  },
  {
   "cell_type": "code",
   "execution_count": 6,
   "id": "828cf5fa",
   "metadata": {},
   "outputs": [],
   "source": [
    "csv_path = create_csv_path(rba_path)"
   ]
  },
  {
   "cell_type": "markdown",
   "id": "7a385d67",
   "metadata": {},
   "source": [
    "#### Collect the Endnote references from the RBA file"
   ]
  },
  {
   "cell_type": "code",
   "execution_count": 7,
   "id": "287d8c59",
   "metadata": {},
   "outputs": [],
   "source": [
    "references_list_endnote = collectFromEndnote(rba_path)"
   ]
  },
  {
   "cell_type": "code",
   "execution_count": 8,
   "id": "f4b934b0",
   "metadata": {},
   "outputs": [
    {
     "data": {
      "text/plain": [
       "26"
      ]
     },
     "execution_count": 8,
     "metadata": {},
     "output_type": "execute_result"
    }
   ],
   "source": [
    "len(references_list_endnote)"
   ]
  },
  {
   "cell_type": "markdown",
   "id": "f8cad7cc",
   "metadata": {},
   "source": [
    "#### Write the extracted references to the output file"
   ]
  },
  {
   "cell_type": "code",
   "execution_count": 9,
   "id": "4c20a1c1",
   "metadata": {},
   "outputs": [],
   "source": [
    "pubmed2csv(references_list_endnote, csv_path, email)"
   ]
  },
  {
   "cell_type": "markdown",
   "id": "2572f901",
   "metadata": {},
   "source": [
    "#### Collect the Table references from the RBA file"
   ]
  },
  {
   "cell_type": "code",
   "execution_count": 10,
   "id": "24492067",
   "metadata": {},
   "outputs": [],
   "source": [
    "references_list_tables = collectFromTables(rba_path)"
   ]
  },
  {
   "cell_type": "code",
   "execution_count": 11,
   "id": "12ff8808",
   "metadata": {},
   "outputs": [
    {
     "data": {
      "text/plain": [
       "35"
      ]
     },
     "execution_count": 11,
     "metadata": {},
     "output_type": "execute_result"
    }
   ],
   "source": [
    "len(references_list_tables)"
   ]
  },
  {
   "cell_type": "markdown",
   "id": "eaf42861",
   "metadata": {},
   "source": [
    "#### Write the extracted references to the output file"
   ]
  },
  {
   "cell_type": "code",
   "execution_count": 12,
   "id": "5ce85d4a",
   "metadata": {},
   "outputs": [],
   "source": [
    "pubmed2csv(references_list_tables, csv_path, email)"
   ]
  }
 ],
 "metadata": {
  "kernelspec": {
   "display_name": "Python 3 (ipykernel)",
   "language": "python",
   "name": "python3"
  },
  "language_info": {
   "codemirror_mode": {
    "name": "ipython",
    "version": 3
   },
   "file_extension": ".py",
   "mimetype": "text/x-python",
   "name": "python",
   "nbconvert_exporter": "python",
   "pygments_lexer": "ipython3",
   "version": "3.8.9"
  }
 },
 "nbformat": 4,
 "nbformat_minor": 5
}
