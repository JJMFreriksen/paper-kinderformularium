{
 "cells": [
  {
   "cell_type": "code",
   "execution_count": 1,
   "id": "65607a89",
   "metadata": {},
   "outputs": [],
   "source": [
    "%load_ext autoreload\n",
    "%autoreload 2\n",
    "%reload_ext autoreload"
   ]
  },
  {
   "cell_type": "markdown",
   "id": "b91b0bb9",
   "metadata": {},
   "source": [
    "#### Import the necessary functions from the scripts"
   ]
  },
  {
   "cell_type": "code",
   "execution_count": 2,
   "id": "fe3c56e6",
   "metadata": {},
   "outputs": [],
   "source": [
    "import os\n",
    "from utils import create_csv_path, collectFromEndnote, pubmed2csv"
   ]
  },
  {
   "cell_type": "markdown",
   "id": "b247e4df",
   "metadata": {},
   "source": [
    "#### Give the path of the targeted Risk Benefit Analysis (RBA) document"
   ]
  },
  {
   "cell_type": "code",
   "execution_count": 3,
   "id": "707174f2",
   "metadata": {},
   "outputs": [],
   "source": [
    "rba_path = os.path.abspath('../data/1. Risk-benefit analysis Kinderformularium Oxycodone.docx')"
   ]
  },
  {
   "cell_type": "markdown",
   "id": "ed7add6b",
   "metadata": {},
   "source": [
    "#### Create the path to the output CSV file"
   ]
  },
  {
   "cell_type": "code",
   "execution_count": 4,
   "id": "20963f62",
   "metadata": {},
   "outputs": [],
   "source": [
    "csv_path = create_csv_path(rba_path)"
   ]
  },
  {
   "cell_type": "markdown",
   "id": "c6ac8409",
   "metadata": {},
   "source": [
    "#### Collect the references from the RBA file"
   ]
  },
  {
   "cell_type": "code",
   "execution_count": 5,
   "id": "e8b19f49",
   "metadata": {},
   "outputs": [],
   "source": [
    "references_list = collectFromEndnote(rba_path)"
   ]
  },
  {
   "cell_type": "markdown",
   "id": "f8cad7cc",
   "metadata": {},
   "source": [
    "#### Write the extracted references to the output file"
   ]
  },
  {
   "cell_type": "code",
   "execution_count": 6,
   "id": "23524d12",
   "metadata": {},
   "outputs": [],
   "source": [
    "pubmed2csv(references_list, csv_path)"
   ]
  },
  {
   "cell_type": "code",
   "execution_count": null,
   "id": "653c30ff",
   "metadata": {},
   "outputs": [],
   "source": []
  }
 ],
 "metadata": {
  "kernelspec": {
   "display_name": "Python 3 (ipykernel)",
   "language": "python",
   "name": "python3"
  },
  "language_info": {
   "codemirror_mode": {
    "name": "ipython",
    "version": 3
   },
   "file_extension": ".py",
   "mimetype": "text/x-python",
   "name": "python",
   "nbconvert_exporter": "python",
   "pygments_lexer": "ipython3",
   "version": "3.8.9"
  }
 },
 "nbformat": 4,
 "nbformat_minor": 5
}
