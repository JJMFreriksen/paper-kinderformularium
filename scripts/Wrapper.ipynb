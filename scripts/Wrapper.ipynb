{
 "cells": [
  {
   "cell_type": "code",
   "execution_count": 1,
   "id": "9636d1a5",
   "metadata": {},
   "outputs": [],
   "source": [
    "%load_ext autoreload\n",
    "%autoreload 2\n",
    "%reload_ext autoreload"
   ]
  },
  {
   "cell_type": "code",
   "execution_count": 2,
   "id": "dac3a25b",
   "metadata": {},
   "outputs": [],
   "source": [
    "import os\n",
    "from glob import glob\n",
    "from utils import create_csv_path, collectFromEndnote, collectFromTables, pubmed2csv"
   ]
  },
  {
   "cell_type": "code",
   "execution_count": 3,
   "id": "047cf0a3",
   "metadata": {},
   "outputs": [],
   "source": [
    "# Give the folder path that contains the docx files\n",
    "folder_path = '../data/*.docx'\n",
    "\n",
    "# Give the email address that is associated with the Pubmed database\n",
    "email = 'simgeekiz48@gmail.com'"
   ]
  },
  {
   "cell_type": "code",
   "execution_count": 4,
   "id": "6f48b47e",
   "metadata": {},
   "outputs": [],
   "source": [
    "docx_files = glob(folder_path)"
   ]
  },
  {
   "cell_type": "code",
   "execution_count": 5,
   "id": "214f4363",
   "metadata": {},
   "outputs": [
    {
     "data": {
      "text/plain": [
       "['../data/2. Risk-benefit analysis Kinderformularium valproic acid.docx',\n",
       " '../data/ferrofumaraat.docx',\n",
       " '../data/1. Risicoanalyse kinderformularium gentamicine nieuw.docx',\n",
       " '../data/3b. Risicoanalyse kinderformularium clonazepam epilepsie.docx',\n",
       " '../data/3a. Risicoanalyse clonazepam 13-12-2018_IH.docx',\n",
       " '../data/1. Risk-benefit analysis Kinderformularium Oxycodone.docx']"
      ]
     },
     "execution_count": 5,
     "metadata": {},
     "output_type": "execute_result"
    }
   ],
   "source": [
    "docx_files"
   ]
  },
  {
   "cell_type": "code",
   "execution_count": 6,
   "id": "c7d51586",
   "metadata": {
    "scrolled": false
   },
   "outputs": [],
   "source": [
    "for file in docx_files:\n",
    "    # Give the path of the targeted Risk Benefit Analysis (RBA) document\n",
    "    rba_path = os.path.abspath(file)\n",
    "\n",
    "    # Create the path to the output CSV file\n",
    "    csv_path = create_csv_path(rba_path)\n",
    "\n",
    "    # Collect the references from the RBA file\n",
    "    references_list = collectFromEndnote(rba_path)\n",
    "\n",
    "    # Write the extracted references to the output file\n",
    "    pubmed2csv(references_list, csv_path, email)\n",
    "    \n",
    "    # Collect the Table references from the RBA file\n",
    "    references_list_tables = collectFromTables(rba_path)\n",
    "\n",
    "    # Write the extracted references to the output file\n",
    "    pubmed2csv(references_list_tables, csv_path, email)"
   ]
  },
  {
   "cell_type": "code",
   "execution_count": null,
   "id": "3394c53b",
   "metadata": {},
   "outputs": [],
   "source": []
  }
 ],
 "metadata": {
  "kernelspec": {
   "display_name": "Python 3 (ipykernel)",
   "language": "python",
   "name": "python3"
  },
  "language_info": {
   "codemirror_mode": {
    "name": "ipython",
    "version": 3
   },
   "file_extension": ".py",
   "mimetype": "text/x-python",
   "name": "python",
   "nbconvert_exporter": "python",
   "pygments_lexer": "ipython3",
   "version": "3.8.9"
  }
 },
 "nbformat": 4,
 "nbformat_minor": 5
}
